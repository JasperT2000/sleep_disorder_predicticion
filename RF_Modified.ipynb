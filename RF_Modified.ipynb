{
 "cells": [
  {
   "cell_type": "code",
   "execution_count": 1,
   "id": "ea3c3d05-e5b8-4a2e-9e77-497c879eda29",
   "metadata": {},
   "outputs": [],
   "source": [
    "import lightgbm as lgb\n",
    "from sklearn.model_selection import train_test_split\n",
    "from sklearn.metrics import accuracy_score\n",
    "import pandas as pd\n",
    "from sklearn.preprocessing import LabelEncoder\n",
    "import seaborn as sns\n",
    "import matplotlib.pyplot as plt\n",
    "from scipy import stats\n",
    "from sklearn.decomposition import PCA\n",
    "from sklearn.preprocessing import LabelEncoder\n",
    "import re\n",
    "from sklearn.preprocessing import StandardScaler\n",
    "from imblearn.over_sampling import RandomOverSampler\n",
    "from sklearn.metrics import accuracy_score, classification_report\n",
    "from sklearn.ensemble import RandomForestClassifier\n",
    "from sklearn.linear_model import LogisticRegression\n",
    "from sklearn.svm import SVC\n",
    "from sklearn.neighbors import KNeighborsClassifier\n",
    "from sklearn.tree import DecisionTreeClassifier\n",
    "from sklearn.model_selection import GridSearchCV\n",
    "import numpy as np\n",
    "from sklearn.impute import KNNImputer\n",
    "from sklearn.impute import SimpleImputer"
   ]
  },
  {
   "cell_type": "code",
   "execution_count": 2,
   "id": "f244c0f8-1a5a-4339-86e7-918b54a2de22",
   "metadata": {},
   "outputs": [],
   "source": [
    "df = pd.read_csv('/Users/jasper/Desktop/SIT764/output1.csv')\n",
    "\n",
    "# Encode the binary target variable\n",
    "label_encoder = LabelEncoder()\n",
    "y = label_encoder.fit_transform(df['disorder'])\n",
    "\n",
    "# Separate features (X) and target variable (y)\n",
    "X = df.drop(['id', 'disorder','insomnia','slp_apnea'], axis=1)  \n",
    "sc = StandardScaler()\n",
    "X_scaled = sc.fit_transform(X)"
   ]
  },
  {
   "cell_type": "code",
   "execution_count": 3,
   "id": "0b6fa534-02e4-4168-82a5-852330b8995f",
   "metadata": {},
   "outputs": [],
   "source": [
    "imputer = KNNImputer(n_neighbors=2)\n",
    "\n",
    "# Impute NaN values in the DataFrame\n",
    "X_scaled = imputer.fit_transform(X_scaled)"
   ]
  },
  {
   "cell_type": "code",
   "execution_count": 4,
   "id": "383ff2cf-42f8-4050-a0cb-74f72f9faee8",
   "metadata": {},
   "outputs": [],
   "source": [
    "imputer = SimpleImputer(strategy='median')\n",
    "\n",
    "# Impute NaN values in the DataFrame\n",
    "y = y.reshape(-1, 1)\n",
    "y = imputer.fit_transform(y)"
   ]
  },
  {
   "cell_type": "code",
   "execution_count": 5,
   "id": "a9620970-9a97-4204-ba5b-ed3c5f6db94b",
   "metadata": {},
   "outputs": [],
   "source": [
    "# Instantiate the RandomOverSampler\n",
    "ros = RandomOverSampler(random_state=42)\n",
    "\n",
    "# Resample the training data\n",
    "X_train, y_train = ros.fit_resample(X_scaled, y)"
   ]
  },
  {
   "cell_type": "code",
   "execution_count": 6,
   "id": "48575ce7-a7dc-4972-81af-8964ab4b751c",
   "metadata": {},
   "outputs": [],
   "source": [
    "pca = PCA(n_components=3)\n",
    "X_pca = pca.fit_transform(X_train)"
   ]
  },
  {
   "cell_type": "code",
   "execution_count": 7,
   "id": "7c841c4e-c4c0-4083-8c66-1af4f86d2bd0",
   "metadata": {},
   "outputs": [],
   "source": [
    "# Split data into training and testing sets\n",
    "X_train, X_test, y_train, y_test = train_test_split(X_train, y_train, test_size=0.2, random_state=5)"
   ]
  },
  {
   "cell_type": "code",
   "execution_count": 8,
   "id": "3b0f0a14-0e37-4040-8f24-290738c44ed5",
   "metadata": {},
   "outputs": [
    {
     "name": "stdout",
     "output_type": "stream",
     "text": [
      "Logistic Regression Accuracy: 0.5816993464052288\n",
      "Classification Report:\n",
      "              precision    recall  f1-score   support\n",
      "\n",
      "         0.0       0.54      0.66      0.59       355\n",
      "         1.0       0.64      0.51      0.57       410\n",
      "\n",
      "    accuracy                           0.58       765\n",
      "   macro avg       0.59      0.59      0.58       765\n",
      "weighted avg       0.59      0.58      0.58       765\n",
      "\n"
     ]
    }
   ],
   "source": [
    "# Logistic Regression with tuned parameters\n",
    "log_reg = LogisticRegression(C=0.1, solver='liblinear')\n",
    "log_reg.fit(X_train, y_train)\n",
    "y_pred_log_reg = log_reg.predict(X_test)\n",
    "accuracy_log_reg = accuracy_score(y_test, y_pred_log_reg)\n",
    "print(\"Logistic Regression Accuracy:\", accuracy_log_reg)\n",
    "report = classification_report(y_test, y_pred_log_reg)\n",
    "print(\"Classification Report:\")\n",
    "print(report)"
   ]
  },
  {
   "cell_type": "code",
   "execution_count": 9,
   "id": "05025e65-91d6-42ca-8cf4-834430535ee2",
   "metadata": {},
   "outputs": [
    {
     "name": "stdout",
     "output_type": "stream",
     "text": [
      "SVM Accuracy: 0.6928104575163399\n",
      "Classification Report:\n",
      "              precision    recall  f1-score   support\n",
      "\n",
      "         0.0       0.66      0.70      0.68       355\n",
      "         1.0       0.73      0.68      0.70       410\n",
      "\n",
      "    accuracy                           0.69       765\n",
      "   macro avg       0.69      0.69      0.69       765\n",
      "weighted avg       0.70      0.69      0.69       765\n",
      "\n"
     ]
    }
   ],
   "source": [
    "# Support Vector Machine (SVM) with tuned parameters\n",
    "svm_classifier = SVC(kernel='rbf', C=1.0, gamma='scale')\n",
    "svm_classifier.fit(X_train, y_train)\n",
    "y_pred_svm = svm_classifier.predict(X_test)\n",
    "accuracy_svm = accuracy_score(y_test, y_pred_svm)\n",
    "print(\"SVM Accuracy:\", accuracy_svm)\n",
    "report = classification_report(y_test, y_pred_svm)\n",
    "print(\"Classification Report:\")\n",
    "print(report)"
   ]
  },
  {
   "cell_type": "code",
   "execution_count": 10,
   "id": "f7dc4432-8cae-4697-ba07-9d6bae6e32e0",
   "metadata": {},
   "outputs": [
    {
     "name": "stdout",
     "output_type": "stream",
     "text": [
      "KNN Accuracy: 0.7973856209150327\n",
      "Classification Report:\n",
      "              precision    recall  f1-score   support\n",
      "\n",
      "         0.0       0.88      0.65      0.75       355\n",
      "         1.0       0.75      0.93      0.83       410\n",
      "\n",
      "    accuracy                           0.80       765\n",
      "   macro avg       0.82      0.79      0.79       765\n",
      "weighted avg       0.81      0.80      0.79       765\n",
      "\n"
     ]
    }
   ],
   "source": [
    "# K-Nearest Neighbors (KNN) with tuned parameters\n",
    "knn_classifier = KNeighborsClassifier(n_neighbors=5)\n",
    "knn_classifier.fit(X_train, y_train)\n",
    "y_pred_knn = knn_classifier.predict(X_test)\n",
    "accuracy_knn = accuracy_score(y_test, y_pred_knn)\n",
    "print(\"KNN Accuracy:\", accuracy_knn)\n",
    "report = classification_report(y_test, y_pred_knn)\n",
    "print(\"Classification Report:\")\n",
    "print(report)"
   ]
  },
  {
   "cell_type": "code",
   "execution_count": 11,
   "id": "865dde9e-4581-4de9-9e2f-b7afa565fe22",
   "metadata": {},
   "outputs": [
    {
     "name": "stdout",
     "output_type": "stream",
     "text": [
      "Decision Tree Accuracy: 0.6836601307189543\n",
      "Classification Report:\n",
      "              precision    recall  f1-score   support\n",
      "\n",
      "         0.0       0.70      0.56      0.62       355\n",
      "         1.0       0.68      0.79      0.73       410\n",
      "\n",
      "    accuracy                           0.68       765\n",
      "   macro avg       0.69      0.68      0.68       765\n",
      "weighted avg       0.69      0.68      0.68       765\n",
      "\n"
     ]
    }
   ],
   "source": [
    "dt_classifier = DecisionTreeClassifier(max_depth=5, min_samples_split=2, min_samples_leaf=1)\n",
    "dt_classifier.fit(X_train, y_train)\n",
    "y_pred_dt = dt_classifier.predict(X_test)\n",
    "accuracy_dt = accuracy_score(y_test, y_pred_dt)\n",
    "print(\"Decision Tree Accuracy:\", accuracy_dt)\n",
    "report = classification_report(y_test, y_pred_dt)\n",
    "print(\"Classification Report:\")\n",
    "print(report)"
   ]
  },
  {
   "cell_type": "code",
   "execution_count": 12,
   "id": "d318d18f-6327-493f-950f-73b4aae75f31",
   "metadata": {},
   "outputs": [
    {
     "name": "stdout",
     "output_type": "stream",
     "text": [
      "Accuracy: 0.9856209150326798\n",
      "Classification Report:\n",
      "              precision    recall  f1-score   support\n",
      "\n",
      "         0.0       1.00      0.97      0.98       355\n",
      "         1.0       0.98      1.00      0.99       410\n",
      "\n",
      "    accuracy                           0.99       765\n",
      "   macro avg       0.99      0.98      0.99       765\n",
      "weighted avg       0.99      0.99      0.99       765\n",
      "\n"
     ]
    }
   ],
   "source": [
    "rf_classifier = RandomForestClassifier(n_estimators=100, random_state=0)\n",
    "rf_classifier.fit(X_train, y_train)\n",
    "\n",
    "# Make predictions\n",
    "y_pred = rf_classifier.predict(X_test)\n",
    "\n",
    "# Calculate accuracy\n",
    "accuracy = accuracy_score(y_test, y_pred)\n",
    "report = classification_report(y_test, y_pred)\n",
    "print(\"Accuracy:\", accuracy)\n",
    "print(\"Classification Report:\")\n",
    "print(report)"
   ]
  },
  {
   "cell_type": "code",
   "execution_count": 13,
   "id": "d76c475e-31db-4785-84fb-5d44ff165d73",
   "metadata": {},
   "outputs": [
    {
     "name": "stdout",
     "output_type": "stream",
     "text": [
      "Accuracy: 0.9150326797385621\n",
      "Classification Report:\n",
      "              precision    recall  f1-score   support\n",
      "\n",
      "         0.0       0.94      0.88      0.91       355\n",
      "         1.0       0.90      0.95      0.92       410\n",
      "\n",
      "    accuracy                           0.92       765\n",
      "   macro avg       0.92      0.91      0.91       765\n",
      "weighted avg       0.92      0.92      0.91       765\n",
      "\n"
     ]
    }
   ],
   "source": [
    "# Define parameters\n",
    "params = {\n",
    "    'objective': 'binary',  \n",
    "    'metric': 'binary_error',  \n",
    "    'num_leaves': 31,\n",
    "    'learning_rate': 0.05,\n",
    "    'feature_fraction': 0.9,\n",
    "    'bagging_fraction': 0.8,\n",
    "    'bagging_freq': 5,\n",
    "    'verbose': -1\n",
    "}\n",
    "\n",
    "# Create dataset for LightGBM\n",
    "lgb_train = lgb.Dataset(X_train, y_train)\n",
    "lgb_test = lgb.Dataset(X_test, y_test, reference=lgb_train)\n",
    "# Train the model\n",
    "num_round = 100\n",
    "bst = lgb.train(params, lgb_train, num_round, valid_sets=[lgb_train, lgb_test])\n",
    "\n",
    "# Make predictions\n",
    "y_pred_prob = bst.predict(X_test, num_iteration=bst.best_iteration)\n",
    "y_pred_binary = [1 if pred >= 0.5 else 0 for pred in y_pred_prob]  \n",
    "\n",
    "# Evaluate the model\n",
    "accuracy = accuracy_score(y_test, y_pred_binary)\n",
    "report = classification_report(y_test, y_pred_binary)\n",
    "print(\"Accuracy:\", accuracy)\n",
    "print(\"Classification Report:\")\n",
    "print(report)"
   ]
  },
  {
   "cell_type": "code",
   "execution_count": 14,
   "id": "e907b875-331d-4396-9a70-f2354a1c103e",
   "metadata": {},
   "outputs": [
    {
     "name": "stderr",
     "output_type": "stream",
     "text": [
      "/Users/jasper/Desktop/anaconda3/lib/python3.11/site-packages/sklearn/model_selection/_validation.py:540: FitFailedWarning: \n",
      "405 fits failed out of a total of 1215.\n",
      "The score on these train-test partitions for these parameters will be set to nan.\n",
      "If these failures are not expected, you can try to debug them by setting error_score='raise'.\n",
      "\n",
      "Below are more details about the failures:\n",
      "--------------------------------------------------------------------------------\n",
      "242 fits failed with the following error:\n",
      "Traceback (most recent call last):\n",
      "  File \"/Users/jasper/Desktop/anaconda3/lib/python3.11/site-packages/sklearn/model_selection/_validation.py\", line 888, in _fit_and_score\n",
      "    estimator.fit(X_train, y_train, **fit_params)\n",
      "  File \"/Users/jasper/Desktop/anaconda3/lib/python3.11/site-packages/sklearn/base.py\", line 1466, in wrapper\n",
      "    estimator._validate_params()\n",
      "  File \"/Users/jasper/Desktop/anaconda3/lib/python3.11/site-packages/sklearn/base.py\", line 666, in _validate_params\n",
      "    validate_parameter_constraints(\n",
      "  File \"/Users/jasper/Desktop/anaconda3/lib/python3.11/site-packages/sklearn/utils/_param_validation.py\", line 95, in validate_parameter_constraints\n",
      "    raise InvalidParameterError(\n",
      "sklearn.utils._param_validation.InvalidParameterError: The 'max_features' parameter of RandomForestClassifier must be an int in the range [1, inf), a float in the range (0.0, 1.0], a str among {'sqrt', 'log2'} or None. Got 'auto' instead.\n",
      "\n",
      "--------------------------------------------------------------------------------\n",
      "163 fits failed with the following error:\n",
      "Traceback (most recent call last):\n",
      "  File \"/Users/jasper/Desktop/anaconda3/lib/python3.11/site-packages/sklearn/model_selection/_validation.py\", line 888, in _fit_and_score\n",
      "    estimator.fit(X_train, y_train, **fit_params)\n",
      "  File \"/Users/jasper/Desktop/anaconda3/lib/python3.11/site-packages/sklearn/base.py\", line 1466, in wrapper\n",
      "    estimator._validate_params()\n",
      "  File \"/Users/jasper/Desktop/anaconda3/lib/python3.11/site-packages/sklearn/base.py\", line 666, in _validate_params\n",
      "    validate_parameter_constraints(\n",
      "  File \"/Users/jasper/Desktop/anaconda3/lib/python3.11/site-packages/sklearn/utils/_param_validation.py\", line 95, in validate_parameter_constraints\n",
      "    raise InvalidParameterError(\n",
      "sklearn.utils._param_validation.InvalidParameterError: The 'max_features' parameter of RandomForestClassifier must be an int in the range [1, inf), a float in the range (0.0, 1.0], a str among {'log2', 'sqrt'} or None. Got 'auto' instead.\n",
      "\n",
      "  warnings.warn(some_fits_failed_message, FitFailedWarning)\n",
      "/Users/jasper/Desktop/anaconda3/lib/python3.11/site-packages/sklearn/model_selection/_search.py:1102: UserWarning: One or more of the test scores are non-finite: [       nan        nan        nan        nan        nan        nan\n",
      "        nan        nan        nan        nan        nan        nan\n",
      "        nan        nan        nan        nan        nan        nan\n",
      "        nan        nan        nan        nan        nan        nan\n",
      "        nan        nan        nan        nan        nan        nan\n",
      "        nan        nan        nan        nan        nan        nan\n",
      "        nan        nan        nan        nan        nan        nan\n",
      "        nan        nan        nan        nan        nan        nan\n",
      "        nan        nan        nan        nan        nan        nan\n",
      "        nan        nan        nan        nan        nan        nan\n",
      "        nan        nan        nan        nan        nan        nan\n",
      "        nan        nan        nan        nan        nan        nan\n",
      "        nan        nan        nan        nan        nan        nan\n",
      "        nan        nan        nan 0.96631045 0.96598098 0.96729031\n",
      " 0.95388145 0.9564969  0.95976862 0.94504669 0.94766375 0.95125959\n",
      " 0.95093332 0.95224265 0.95355198 0.95028133 0.94668121 0.94962453\n",
      " 0.93032637 0.93523261 0.93392061 0.91789791 0.92509333 0.92345774\n",
      " 0.91789791 0.92509333 0.92345774 0.9162575  0.91822203 0.9241092\n",
      " 0.50899575 0.50899575 0.50899575 0.50899575 0.50899575 0.50899575\n",
      " 0.50899575 0.50899575 0.50899575 0.50899575 0.50899575 0.50899575\n",
      " 0.50899575 0.50899575 0.50899575 0.50899575 0.50899575 0.50899575\n",
      " 0.50899575 0.50899575 0.50899575 0.50899575 0.50899575 0.50899575\n",
      " 0.50899575 0.50899575 0.50899575 0.50899575 0.50899575 0.50899575\n",
      " 0.50899575 0.50899575 0.50899575 0.50899575 0.50899575 0.50899575\n",
      " 0.50899575 0.50899575 0.50899575 0.50899575 0.50899575 0.50899575\n",
      " 0.50899575 0.50899575 0.50899575 0.50899575 0.50899575 0.50899575\n",
      " 0.50899575 0.50899575 0.50899575 0.50899575 0.50899575 0.50899575\n",
      " 0.96631045 0.96598098 0.96729031 0.95388145 0.9564969  0.95976862\n",
      " 0.94504669 0.94766375 0.95125959 0.95093332 0.95224265 0.95355198\n",
      " 0.95028133 0.94668121 0.94962453 0.93032637 0.93523261 0.93392061\n",
      " 0.91789791 0.92509333 0.92345774 0.91789791 0.92509333 0.92345774\n",
      " 0.9162575  0.91822203 0.9241092  0.50899575 0.50899575 0.50899575\n",
      " 0.50899575 0.50899575 0.50899575 0.50899575 0.50899575 0.50899575\n",
      " 0.50899575 0.50899575 0.50899575 0.50899575 0.50899575 0.50899575\n",
      " 0.50899575 0.50899575 0.50899575 0.50899575 0.50899575 0.50899575\n",
      " 0.50899575 0.50899575 0.50899575 0.50899575 0.50899575 0.50899575\n",
      " 0.50899575 0.50899575 0.50899575 0.50899575 0.50899575 0.50899575\n",
      " 0.50899575 0.50899575 0.50899575 0.50899575 0.50899575 0.50899575\n",
      " 0.50899575 0.50899575 0.50899575 0.50899575 0.50899575 0.50899575\n",
      " 0.50899575 0.50899575 0.50899575 0.50899575 0.50899575 0.50899575\n",
      " 0.50899575 0.50899575 0.50899575]\n",
      "  warnings.warn(\n"
     ]
    },
    {
     "name": "stdout",
     "output_type": "stream",
     "text": [
      "Best Parameters: {'max_features': 'sqrt', 'min_impurity_decrease': 0.0, 'min_samples_leaf': 1, 'min_samples_split': 2, 'n_estimators': 150}\n",
      "Best Score: 0.9672903094680316\n",
      "Accuracy: 0.984313725490196\n",
      "Classification Report:\n",
      "              precision    recall  f1-score   support\n",
      "\n",
      "         0.0       1.00      0.97      0.98       355\n",
      "         1.0       0.97      1.00      0.99       410\n",
      "\n",
      "    accuracy                           0.98       765\n",
      "   macro avg       0.99      0.98      0.98       765\n",
      "weighted avg       0.98      0.98      0.98       765\n",
      "\n"
     ]
    }
   ],
   "source": [
    "param_grid = {\n",
    "    'n_estimators': [50, 100, 150],\n",
    "    'max_features': ['auto', 'sqrt', 'log2'],\n",
    "    'min_samples_split': [2, 5, 10],\n",
    "    'min_samples_leaf': [1, 2, 4],\n",
    "    'min_impurity_decrease': [0.0, 0.1, 0.2]\n",
    "}\n",
    "\n",
    "# Instantiate the RandomForestClassifier\n",
    "rf_classifier = RandomForestClassifier(random_state=0)\n",
    "\n",
    "# Instantiate GridSearchCV\n",
    "grid_search = GridSearchCV(rf_classifier, param_grid, cv=5, scoring='accuracy', n_jobs=-1)\n",
    "\n",
    "# Perform grid search\n",
    "grid_search.fit(X_train, y_train)\n",
    "\n",
    "# Get the best parameters and best score\n",
    "best_params = grid_search.best_params_\n",
    "best_score = grid_search.best_score_\n",
    "print(\"Best Parameters:\", best_params)\n",
    "print(\"Best Score:\", best_score)\n",
    "\n",
    "# Use the best model\n",
    "best_rf_classifier = grid_search.best_estimator_\n",
    "\n",
    "# Make predictions\n",
    "y_pred = best_rf_classifier.predict(X_test)\n",
    "\n",
    "# Calculate accuracy and classification report\n",
    "accuracy = accuracy_score(y_test, y_pred)\n",
    "report = classification_report(y_test, y_pred)\n",
    "print(\"Accuracy:\", accuracy)\n",
    "print(\"Classification Report:\")\n",
    "print(report)"
   ]
  },
  {
   "cell_type": "code",
   "execution_count": 15,
   "id": "a05c33c2-e657-4e40-9978-2f8953acbe89",
   "metadata": {},
   "outputs": [
    {
     "name": "stdout",
     "output_type": "stream",
     "text": [
      "[0.268791   0.14295337 0.1264759 ]\n",
      "Original feature importances:\n",
      "gender1: 0.007021939466741275\n",
      "nsrr_age: 0.004194310860015404\n",
      "Latency start sleep to REM [min]: 0.009762322366688114\n",
      "Arousal index: 0.004999906927500642\n",
      "NoREM1%: 0.0045521492195893815\n",
      "NoREM2%: 0.009970388510217981\n",
      "NoREM3%: 0.008327180005897576\n",
      "REM%: 0.00753229970224378\n",
      "sleep time: 0.0052610170348827015\n",
      "sleep latency: 0.00221698194925615\n",
      "nsrr_bmi: 0.006974165425816994\n"
     ]
    }
   ],
   "source": [
    "importances = best_rf_classifier.feature_importances_\n",
    "\n",
    "X_train_original = ['gender1','nsrr_age','Latency start sleep to REM [min]','Arousal index','NoREM1%','NoREM2%', 'NoREM3%', 'REM%', 'sleep time','sleep latency','nsrr_bmi']\n",
    "# Assuming you have stored the PCA object in a variable named 'pca'\n",
    "# Assuming X_train_original contains the original feature data before PCA\n",
    "# Get the explained variance ratio of each PCA component\n",
    "explained_variance_ratio = pca.explained_variance_ratio_\n",
    "print(explained_variance_ratio)\n",
    "# Map importances back to the original features\n",
    "original_importances = np.zeros(len(X_train_original))\n",
    "for i, component in enumerate(pca.components_):\n",
    "    original_importances += importances[i] * np.abs(component) * explained_variance_ratio[i]\n",
    "    \n",
    "\n",
    "print(\"Original feature importances:\")\n",
    "for i, feature_name in enumerate(X_train_original):\n",
    "    print(f\"{feature_name}: {original_importances[i]}\")"
   ]
  },
  {
   "cell_type": "code",
   "execution_count": 16,
   "id": "d77d85ef-8905-492d-892f-27097cea6db4",
   "metadata": {},
   "outputs": [
    {
     "data": {
      "image/png": "[encoded data removed]",
      "text/plain": [
       "<Figure size 1000x600 with 1 Axes>"
      ]
     },
     "metadata": {},
     "output_type": "display_data"
    }
   ],
   "source": [
    "plt.figure(figsize=(10, 6))\n",
    "plt.barh(X_train_original,  original_importances, color='skyblue')\n",
    "plt.xlabel('Importance')\n",
    "plt.ylabel('Feature')\n",
    "plt.title('Feature Importances')\n",
    "plt.gca().invert_yaxis()  # Invert y-axis to display most important features at the top\n",
    "plt.show()"
   ]
  },
  {
   "cell_type": "code",
   "execution_count": 17,
   "id": "472c2cfd-ac81-4ad0-bbc5-8b7f2f86aaad",
   "metadata": {},
   "outputs": [
    {
     "name": "stdout",
     "output_type": "stream",
     "text": [
      "Model saved to random_forest_model.pkl\n"
     ]
    }
   ],
   "source": [
    "import joblib\n",
    "# Save the trained model to a file (using .pkl format)\n",
    "model_filename = \"random_forest_model.pkl\"\n",
    "joblib.dump(rf_classifier, model_filename)\n",
    "\n",
    "print(f\"Model saved to {model_filename}\")"
   ]
  }
 ],
 "metadata": {
  "kernelspec": {
   "display_name": "Python 3 (ipykernel)",
   "language": "python",
   "name": "python3"
  },
  "language_info": {
   "codemirror_mode": {
    "name": "ipython",
    "version": 3
   },
   "file_extension": ".py",
   "mimetype": "text/x-python",
   "name": "python",
   "nbconvert_exporter": "python",
   "pygments_lexer": "ipython3",
   "version": "3.11.8"
  }
 },
 "nbformat": 4,
 "nbformat_minor": 5
}
